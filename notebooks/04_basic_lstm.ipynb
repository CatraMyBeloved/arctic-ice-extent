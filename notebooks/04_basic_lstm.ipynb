{
 "cells": [
  {
   "cell_type": "code",
   "id": "initial_id",
   "metadata": {
    "collapsed": true,
    "ExecuteTime": {
     "end_time": "2025-10-11T13:26:45.470300Z",
     "start_time": "2025-10-11T13:26:45.466886Z"
    }
   },
   "source": [
    "import pandas as pd\n",
    "import numpy as np\n",
    "import torch\n",
    "import torch.nn as nn\n",
    "import matplotlib.pyplot as plt\n",
    "from src.data_utils import load_data"
   ],
   "outputs": [],
   "execution_count": 16
  },
  {
   "metadata": {
    "ExecuteTime": {
     "end_time": "2025-10-11T13:19:45.502783Z",
     "start_time": "2025-10-11T13:19:45.497736Z"
    }
   },
   "cell_type": "code",
   "source": [
    "class CustomArcticDataset(torch.utils.data.Dataset):\n",
    "    def __init__(self, data, sequence_length=30, forecast_horizon=1, features=None, scaler = None):\n",
    "        self.data = data.sort_values('date').reset_index(drop=True)\n",
    "        self.sequence_length = sequence_length\n",
    "        self.forecast_horizon = forecast_horizon\n",
    "\n",
    "        if features is None:\n",
    "            self.features = ['extent_mkm2']\n",
    "        else:\n",
    "            self.features = features\n",
    "\n",
    "        self.data = self.data[self.features].values.astype(np.float32)\n",
    "        if scaler is None:\n",
    "            self.mean = self.data.mean(axis=0)\n",
    "            self.std = self.data.std(axis=0)\n",
    "        else:\n",
    "            self.mean, self.std = scaler\n",
    "\n",
    "        self.data = (self.data - self.mean) / self.std\n",
    "\n",
    "    def __len__(self):\n",
    "        return len(self.data) - self.sequence_length - self.forecast_horizon + 1\n",
    "\n",
    "    def __getitem__(self, idx):\n",
    "        X = self.data[idx:idx + self.sequence_length]\n",
    "        y = self.data[idx + self.sequence_length + self.forecast_horizon - 1][0]\n",
    "\n",
    "        X = torch.tensor(X, dtype=torch.float32)\n",
    "        y = torch.tensor(y, dtype=torch.float32)\n",
    "\n",
    "        return X, y\n"
   ],
   "id": "3866e5d7eb8e8edb",
   "outputs": [],
   "execution_count": 2
  },
  {
   "metadata": {
    "ExecuteTime": {
     "end_time": "2025-10-11T13:19:50.991718Z",
     "start_time": "2025-10-11T13:19:46.416170Z"
    }
   },
   "cell_type": "code",
   "source": [
    "train_data = load_data(regions='pan_arctic', years=range(1989, 2020))\n",
    "test_data = load_data(regions='pan_arctic', years=range(2020, 2024))"
   ],
   "id": "4a23e84f1b54e474",
   "outputs": [],
   "execution_count": 3
  },
  {
   "metadata": {
    "ExecuteTime": {
     "end_time": "2025-10-11T13:19:52.077343Z",
     "start_time": "2025-10-11T13:19:52.069324Z"
    }
   },
   "cell_type": "code",
   "source": [
    "train_dataset = CustomArcticDataset(train_data, sequence_length=30, forecast_horizon=1)\n",
    "test_dataset = CustomArcticDataset(test_data, scaler=(train_dataset.mean, train_dataset.std))"
   ],
   "id": "4cc7e0e66feed88f",
   "outputs": [],
   "execution_count": 4
  },
  {
   "metadata": {
    "ExecuteTime": {
     "end_time": "2025-10-11T13:19:53.142210Z",
     "start_time": "2025-10-11T13:19:53.138019Z"
    }
   },
   "cell_type": "code",
   "source": [
    "train_loader = torch.utils.data.DataLoader(train_dataset, batch_size=32, shuffle=True)\n",
    "test_loader = torch.utils.data.DataLoader(test_dataset, batch_size=32, shuffle=False)"
   ],
   "id": "47b8f0ecee811b10",
   "outputs": [],
   "execution_count": 5
  },
  {
   "metadata": {
    "ExecuteTime": {
     "end_time": "2025-10-11T13:19:54.180740Z",
     "start_time": "2025-10-11T13:19:54.174666Z"
    }
   },
   "cell_type": "code",
   "source": [
    "for X_batch, y_batch in train_loader:\n",
    "    print(f\"Batch X shape: {X_batch.shape}\")  # (32, 30, 1)\n",
    "    print(f\"Batch y shape: {y_batch.shape}\")  # (32, 1)\n",
    "    break\n"
   ],
   "id": "df9a9241504fe209",
   "outputs": [
    {
     "name": "stdout",
     "output_type": "stream",
     "text": [
      "Batch X shape: torch.Size([32, 30, 1])\n",
      "Batch y shape: torch.Size([32])\n"
     ]
    }
   ],
   "execution_count": 6
  },
  {
   "metadata": {
    "ExecuteTime": {
     "end_time": "2025-10-11T13:21:37.013074Z",
     "start_time": "2025-10-11T13:21:37.008864Z"
    }
   },
   "cell_type": "code",
   "source": [
    "class IceExtentLSTM(torch.nn.Module):\n",
    "    def __init__(self, input_size=1, hidden_size=50, num_layers=2, output_size=1):\n",
    "        super(IceExtentLSTM, self).__init__()\n",
    "        self.hidden_size = hidden_size\n",
    "        self.num_layers = num_layers\n",
    "        self.lstm = torch.nn.LSTM(input_size, hidden_size, num_layers,\n",
    "                                  batch_first=True, dropout=0.2)\n",
    "        self.fc = torch.nn.Linear(hidden_size, output_size)\n",
    "\n",
    "    def forward(self, x):\n",
    "        h_0 = torch.zeros(self.num_layers, x.size(0), self.hidden_size).to(x.device)\n",
    "        c_0 = torch.zeros(self.num_layers, x.size(0), self.hidden_size).to(x.device)\n",
    "        out, _ = self.lstm(x, (h_0, c_0))\n",
    "        out = self.fc(out[:, -1, :])\n",
    "        return out"
   ],
   "id": "d263110a1e13dda9",
   "outputs": [],
   "execution_count": 12
  },
  {
   "metadata": {
    "ExecuteTime": {
     "end_time": "2025-10-11T13:21:38.152545Z",
     "start_time": "2025-10-11T13:21:38.146819Z"
    }
   },
   "cell_type": "code",
   "source": [
    "device = 'cuda' if torch.cuda.is_available() else 'cpu'\n",
    "print(f\"Using device: {device}\")\n",
    "\n",
    "model = IceExtentLSTM(input_size=1, hidden_size=64, num_layers=2, output_size=1)\n",
    "model = model.to(device)\n",
    "\n",
    "criterion = nn.MSELoss()\n",
    "optimizer = torch.optim.Adam(model.parameters(), lr=0.001)\n",
    "scheduler = torch.optim.lr_scheduler.ReduceLROnPlateau(optimizer, mode='min', patience=5, factor=0.5)\n",
    "\n",
    "print(f\"Model parameters: {sum(p.numel() for p in model.parameters())}\")\n"
   ],
   "id": "88d382d55921d354",
   "outputs": [
    {
     "name": "stdout",
     "output_type": "stream",
     "text": [
      "Using device: cpu\n",
      "Model parameters: 50497\n"
     ]
    }
   ],
   "execution_count": 13
  },
  {
   "metadata": {
    "ExecuteTime": {
     "end_time": "2025-10-11T13:25:08.871237Z",
     "start_time": "2025-10-11T13:21:39.482094Z"
    }
   },
   "cell_type": "code",
   "source": [
    "num_epochs = 100\n",
    "best_val_loss = float('inf')\n",
    "patience = 15\n",
    "patience_counter = 0\n",
    "\n",
    "train_losses = []\n",
    "val_losses = []\n",
    "\n",
    "print(\"\\nStarting training...\")\n",
    "for epoch in range(num_epochs):\n",
    "    model.train()\n",
    "    train_loss = 0.0\n",
    "\n",
    "    for X_batch, y_batch in train_loader:\n",
    "        X_batch = X_batch.to(device)\n",
    "        y_batch = y_batch.to(device)\n",
    "\n",
    "        predictions = model(X_batch)\n",
    "        loss = criterion(predictions.squeeze(), y_batch)\n",
    "\n",
    "        optimizer.zero_grad()\n",
    "        loss.backward()\n",
    "        torch.nn.utils.clip_grad_norm_(model.parameters(), max_norm=1.0)\n",
    "        optimizer.step()\n",
    "\n",
    "        train_loss += loss.item()\n",
    "\n",
    "    avg_train_loss = train_loss / len(train_loader)\n",
    "\n",
    "    model.eval()\n",
    "    val_loss = 0.0\n",
    "\n",
    "    with torch.no_grad():\n",
    "        for X_batch, y_batch in test_loader:\n",
    "            X_batch = X_batch.to(device)\n",
    "            y_batch = y_batch.to(device)\n",
    "\n",
    "            predictions = model(X_batch)\n",
    "            loss = criterion(predictions.squeeze(), y_batch)\n",
    "            val_loss += loss.item()\n",
    "\n",
    "    avg_val_loss = val_loss / len(test_loader)\n",
    "\n",
    "    train_losses.append(avg_train_loss)\n",
    "    val_losses.append(avg_val_loss)\n",
    "\n",
    "    scheduler.step(avg_val_loss)\n",
    "\n",
    "    if (epoch + 1) % 5 == 0:\n",
    "        print(f'Epoch {epoch+1}/{num_epochs}')\n",
    "        print(f'  Train Loss: {avg_train_loss:.6f}')\n",
    "        print(f'  Val Loss: {avg_val_loss:.6f}')\n",
    "\n",
    "    if avg_val_loss < best_val_loss:\n",
    "        best_val_loss = avg_val_loss\n",
    "        torch.save(model.state_dict(), 'best_model.pt')\n",
    "        patience_counter = 0\n",
    "    else:\n",
    "        patience_counter += 1\n",
    "        if patience_counter >= patience:\n",
    "            print(f\"\\nEarly stopping at epoch {epoch+1}\")\n",
    "            break\n",
    "\n",
    "print(f\"\\nTraining complete! Best validation loss: {best_val_loss:.6f}\")"
   ],
   "id": "f164adacbd0a616b",
   "outputs": [
    {
     "name": "stdout",
     "output_type": "stream",
     "text": [
      "\n",
      "Starting training...\n",
      "Epoch 5/100\n",
      "  Train Loss: 0.002138\n",
      "  Val Loss: 0.001069\n",
      "Epoch 10/100\n",
      "  Train Loss: 0.001377\n",
      "  Val Loss: 0.000824\n",
      "Epoch 15/100\n",
      "  Train Loss: 0.001160\n",
      "  Val Loss: 0.000643\n",
      "Epoch 20/100\n",
      "  Train Loss: 0.000950\n",
      "  Val Loss: 0.000654\n",
      "Epoch 25/100\n",
      "  Train Loss: 0.000897\n",
      "  Val Loss: 0.000946\n",
      "Epoch 30/100\n",
      "  Train Loss: 0.000626\n",
      "  Val Loss: 0.000424\n",
      "Epoch 35/100\n",
      "  Train Loss: 0.000624\n",
      "  Val Loss: 0.000373\n",
      "Epoch 40/100\n",
      "  Train Loss: 0.000613\n",
      "  Val Loss: 0.000864\n",
      "Epoch 45/100\n",
      "  Train Loss: 0.000522\n",
      "  Val Loss: 0.000473\n",
      "Epoch 50/100\n",
      "  Train Loss: 0.000519\n",
      "  Val Loss: 0.000385\n",
      "Epoch 55/100\n",
      "  Train Loss: 0.000513\n",
      "  Val Loss: 0.000328\n",
      "Epoch 60/100\n",
      "  Train Loss: 0.000491\n",
      "  Val Loss: 0.000347\n",
      "Epoch 65/100\n",
      "  Train Loss: 0.000462\n",
      "  Val Loss: 0.000410\n",
      "Epoch 70/100\n",
      "  Train Loss: 0.000429\n",
      "  Val Loss: 0.000338\n",
      "Epoch 75/100\n",
      "  Train Loss: 0.000429\n",
      "  Val Loss: 0.000328\n",
      "Epoch 80/100\n",
      "  Train Loss: 0.000420\n",
      "  Val Loss: 0.000321\n",
      "Epoch 85/100\n",
      "  Train Loss: 0.000413\n",
      "  Val Loss: 0.000318\n",
      "Epoch 90/100\n",
      "  Train Loss: 0.000416\n",
      "  Val Loss: 0.000320\n",
      "Epoch 95/100\n",
      "  Train Loss: 0.000409\n",
      "  Val Loss: 0.000321\n",
      "Epoch 100/100\n",
      "  Train Loss: 0.000411\n",
      "  Val Loss: 0.000323\n",
      "\n",
      "Training complete! Best validation loss: 0.000316\n"
     ]
    }
   ],
   "execution_count": 14
  }
 ],
 "metadata": {
  "kernelspec": {
   "display_name": "Python 3",
   "language": "python",
   "name": "python3"
  },
  "language_info": {
   "codemirror_mode": {
    "name": "ipython",
    "version": 2
   },
   "file_extension": ".py",
   "mimetype": "text/x-python",
   "name": "python",
   "nbconvert_exporter": "python",
   "pygments_lexer": "ipython2",
   "version": "2.7.6"
  }
 },
 "nbformat": 4,
 "nbformat_minor": 5
}
