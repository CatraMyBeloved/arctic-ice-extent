{
 "cells": [
  {
   "cell_type": "code",
   "id": "initial_id",
   "metadata": {
    "collapsed": true,
    "ExecuteTime": {
     "end_time": "2025-08-14T12:10:47.903873Z",
     "start_time": "2025-08-14T12:10:45.618199Z"
    }
   },
   "source": [
    "import os\n",
    "\n",
    "import sqlalchemy\n",
    "import pandas as pd\n",
    "import numpy as np\n",
    "import psycopg\n",
    "from pydantic.v1.env_settings import read_env_file\n",
    "\n",
    "from dotenv import load_dotenv\n",
    "import setup_env"
   ],
   "outputs": [],
   "execution_count": 2
  },
  {
   "metadata": {
    "ExecuteTime": {
     "end_time": "2025-08-14T12:10:48.543409Z",
     "start_time": "2025-08-14T12:10:48.533385Z"
    }
   },
   "cell_type": "code",
   "source": "load_dotenv('../.env')",
   "id": "3112cc00f1e8e723",
   "outputs": [
    {
     "data": {
      "text/plain": [
       "True"
      ]
     },
     "execution_count": 3,
     "metadata": {},
     "output_type": "execute_result"
    }
   ],
   "execution_count": 3
  },
  {
   "metadata": {
    "ExecuteTime": {
     "end_time": "2025-08-14T12:10:49.361848Z",
     "start_time": "2025-08-14T12:10:49.356772Z"
    }
   },
   "cell_type": "code",
   "source": "DB_URL = os.environ.get(\"DB_URL\")\n",
   "id": "204d7685ab71e53d",
   "outputs": [],
   "execution_count": 4
  },
  {
   "metadata": {
    "ExecuteTime": {
     "end_time": "2025-08-14T12:10:50.159173Z",
     "start_time": "2025-08-14T12:10:50.059644Z"
    }
   },
   "cell_type": "code",
   "source": "engine = sqlalchemy.create_engine(DB_URL, pool_pre_ping=True)",
   "id": "ca1bc4c0b90f1c",
   "outputs": [],
   "execution_count": 5
  },
  {
   "metadata": {
    "ExecuteTime": {
     "end_time": "2025-08-14T12:10:50.917363Z",
     "start_time": "2025-08-14T12:10:50.875634Z"
    }
   },
   "cell_type": "code",
   "source": [
    "df_1 = pd.read_csv('../data/raw/N_seaice_extent_daily_v3.0.csv', skiprows=2, names=['Year', 'Month', 'Day', 'Extent', 'Missing', 'Source'])\n",
    "df_1.head()"
   ],
   "id": "df759108802b13fc",
   "outputs": [
    {
     "data": {
      "text/plain": [
       "   Year  Month  Day  Extent  Missing  \\\n",
       "0  1978     10   26  10.231      0.0   \n",
       "1  1978     10   28  10.420      0.0   \n",
       "2  1978     10   30  10.557      0.0   \n",
       "3  1978     11    1  10.670      0.0   \n",
       "4  1978     11    3  10.777      0.0   \n",
       "\n",
       "                                              Source  \n",
       "0   ['/ecs/DP1/PM/NSIDC-0051.001/1978.10.26/nt_19...  \n",
       "1   ['/ecs/DP1/PM/NSIDC-0051.001/1978.10.28/nt_19...  \n",
       "2   ['/ecs/DP1/PM/NSIDC-0051.001/1978.10.30/nt_19...  \n",
       "3   ['/ecs/DP1/PM/NSIDC-0051.001/1978.11.01/nt_19...  \n",
       "4   ['/ecs/DP1/PM/NSIDC-0051.001/1978.11.03/nt_19...  "
      ],
      "text/html": [
       "<div>\n",
       "<style scoped>\n",
       "    .dataframe tbody tr th:only-of-type {\n",
       "        vertical-align: middle;\n",
       "    }\n",
       "\n",
       "    .dataframe tbody tr th {\n",
       "        vertical-align: top;\n",
       "    }\n",
       "\n",
       "    .dataframe thead th {\n",
       "        text-align: right;\n",
       "    }\n",
       "</style>\n",
       "<table border=\"1\" class=\"dataframe\">\n",
       "  <thead>\n",
       "    <tr style=\"text-align: right;\">\n",
       "      <th></th>\n",
       "      <th>Year</th>\n",
       "      <th>Month</th>\n",
       "      <th>Day</th>\n",
       "      <th>Extent</th>\n",
       "      <th>Missing</th>\n",
       "      <th>Source</th>\n",
       "    </tr>\n",
       "  </thead>\n",
       "  <tbody>\n",
       "    <tr>\n",
       "      <th>0</th>\n",
       "      <td>1978</td>\n",
       "      <td>10</td>\n",
       "      <td>26</td>\n",
       "      <td>10.231</td>\n",
       "      <td>0.0</td>\n",
       "      <td>['/ecs/DP1/PM/NSIDC-0051.001/1978.10.26/nt_19...</td>\n",
       "    </tr>\n",
       "    <tr>\n",
       "      <th>1</th>\n",
       "      <td>1978</td>\n",
       "      <td>10</td>\n",
       "      <td>28</td>\n",
       "      <td>10.420</td>\n",
       "      <td>0.0</td>\n",
       "      <td>['/ecs/DP1/PM/NSIDC-0051.001/1978.10.28/nt_19...</td>\n",
       "    </tr>\n",
       "    <tr>\n",
       "      <th>2</th>\n",
       "      <td>1978</td>\n",
       "      <td>10</td>\n",
       "      <td>30</td>\n",
       "      <td>10.557</td>\n",
       "      <td>0.0</td>\n",
       "      <td>['/ecs/DP1/PM/NSIDC-0051.001/1978.10.30/nt_19...</td>\n",
       "    </tr>\n",
       "    <tr>\n",
       "      <th>3</th>\n",
       "      <td>1978</td>\n",
       "      <td>11</td>\n",
       "      <td>1</td>\n",
       "      <td>10.670</td>\n",
       "      <td>0.0</td>\n",
       "      <td>['/ecs/DP1/PM/NSIDC-0051.001/1978.11.01/nt_19...</td>\n",
       "    </tr>\n",
       "    <tr>\n",
       "      <th>4</th>\n",
       "      <td>1978</td>\n",
       "      <td>11</td>\n",
       "      <td>3</td>\n",
       "      <td>10.777</td>\n",
       "      <td>0.0</td>\n",
       "      <td>['/ecs/DP1/PM/NSIDC-0051.001/1978.11.03/nt_19...</td>\n",
       "    </tr>\n",
       "  </tbody>\n",
       "</table>\n",
       "</div>"
      ]
     },
     "execution_count": 6,
     "metadata": {},
     "output_type": "execute_result"
    }
   ],
   "execution_count": 6
  },
  {
   "metadata": {
    "ExecuteTime": {
     "end_time": "2025-08-14T12:10:51.956661Z",
     "start_time": "2025-08-14T12:10:51.943112Z"
    }
   },
   "cell_type": "code",
   "source": [
    "df_1['Date'] = pd.to_datetime(df_1[['Year', 'Month', 'Day']])\n",
    "df_extent_prepared = df_1[['Date', 'Extent', 'Missing']]"
   ],
   "id": "fd41e88c7aa771a5",
   "outputs": [],
   "execution_count": 7
  },
  {
   "metadata": {
    "ExecuteTime": {
     "end_time": "2025-08-14T12:10:53.619919Z",
     "start_time": "2025-08-14T12:10:52.785325Z"
    }
   },
   "cell_type": "code",
   "source": "df_extent_prepared.to_sql(name = 'seaice_extent', con = engine, if_exists = 'replace', index = False)",
   "id": "c5153b397f13c9c2",
   "outputs": [
    {
     "data": {
      "text/plain": [
       "-1"
      ]
     },
     "execution_count": 8,
     "metadata": {},
     "output_type": "execute_result"
    }
   ],
   "execution_count": 8
  },
  {
   "metadata": {
    "ExecuteTime": {
     "end_time": "2025-08-14T12:12:08.525158Z",
     "start_time": "2025-08-14T12:12:08.516278Z"
    }
   },
   "cell_type": "code",
   "source": "df_2 = pd.read_csv(\"../data/raw/N_seaice_extent_climatology_1981-2010_v3.0.csv\", header=1)",
   "id": "90826af060d6567a",
   "outputs": [],
   "execution_count": 12
  },
  {
   "metadata": {
    "ExecuteTime": {
     "end_time": "2025-08-14T12:12:46.587012Z",
     "start_time": "2025-08-14T12:12:46.544874Z"
    }
   },
   "cell_type": "code",
   "source": "df_2.to_sql(name = 'seaice_extent_climatology', con = engine, if_exists = 'replace', index = False)\n",
   "id": "de0d5092c3d92f63",
   "outputs": [
    {
     "data": {
      "text/plain": [
       "-1"
      ]
     },
     "execution_count": 13,
     "metadata": {},
     "output_type": "execute_result"
    }
   ],
   "execution_count": 13
  }
 ],
 "metadata": {
  "kernelspec": {
   "display_name": "Python 3",
   "language": "python",
   "name": "python3"
  },
  "language_info": {
   "codemirror_mode": {
    "name": "ipython",
    "version": 2
   },
   "file_extension": ".py",
   "mimetype": "text/x-python",
   "name": "python",
   "nbconvert_exporter": "python",
   "pygments_lexer": "ipython2",
   "version": "2.7.6"
  }
 },
 "nbformat": 4,
 "nbformat_minor": 5
}
