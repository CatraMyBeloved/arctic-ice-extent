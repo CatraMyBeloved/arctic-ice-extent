{
 "cells": [
  {
   "cell_type": "code",
   "id": "initial_id",
   "metadata": {
    "collapsed": true,
    "ExecuteTime": {
     "end_time": "2025-09-30T11:47:58.735804Z",
     "start_time": "2025-09-30T11:47:57.701332Z"
    }
   },
   "source": "from src.data_utils import *\nfrom src.plot_utils import plot_standardized_comparison\nimport geopandas\nimport pandas as pd\nimport numpy as np\nimport matplotlib.pyplot as plt",
   "outputs": [],
   "execution_count": 2
  },
  {
   "cell_type": "markdown",
   "id": "0yeocsgwk8bc",
   "source": "# Exploratory Data Analysis\n\nVisualize relationships between atmospheric variables and sea ice extent to identify potential predictive features.",
   "metadata": {}
  },
  {
   "metadata": {
    "ExecuteTime": {
     "end_time": "2025-09-30T11:48:27.696446Z",
     "start_time": "2025-09-30T11:48:27.443184Z"
    }
   },
   "cell_type": "code",
   "source": "# Load data using new flexible API - no more manual concatenation!\ndata = load_data(regions='pan_arctic', years=[2000, 2001])",
   "id": "d5649e20c8b72f9b",
   "outputs": [],
   "execution_count": null
  },
  {
   "metadata": {
    "ExecuteTime": {
     "end_time": "2025-09-30T11:48:28.185084Z",
     "start_time": "2025-09-30T11:48:28.027250Z"
    }
   },
   "cell_type": "code",
   "source": "fig, ax = plot_standardized_comparison(\n    data,\n    columns=['extent_mkm2', 'tp_mean', 't2m_mean', 'wind_speed_mean'],\n    title='Arctic: Ice Extent vs Atmospheric Variables (2000-2001)'\n)\nplt.show()",
   "id": "8ce5cac73254a331",
   "outputs": [],
   "execution_count": null
  },
  {
   "metadata": {},
   "cell_type": "code",
   "outputs": [],
   "execution_count": null,
   "source": "",
   "id": "1c2603192711d181"
  }
 ],
 "metadata": {
  "kernelspec": {
   "display_name": "Python 3",
   "language": "python",
   "name": "python3"
  },
  "language_info": {
   "codemirror_mode": {
    "name": "ipython",
    "version": 2
   },
   "file_extension": ".py",
   "mimetype": "text/x-python",
   "name": "python",
   "nbconvert_exporter": "python",
   "pygments_lexer": "ipython2",
   "version": "2.7.6"
  }
 },
 "nbformat": 4,
 "nbformat_minor": 5
}